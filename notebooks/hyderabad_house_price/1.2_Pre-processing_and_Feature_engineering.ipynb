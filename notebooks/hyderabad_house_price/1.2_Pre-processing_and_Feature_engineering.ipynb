{
 "cells": [
  {
   "cell_type": "markdown",
   "id": "35fa2cf0",
   "metadata": {},
   "source": [
    "# Housing prices in Hyderabad, India"
   ]
  },
  {
   "cell_type": "markdown",
   "id": "1d4567ab",
   "metadata": {},
   "source": [
    "## Project Objective 🎯\n",
    "\n",
    "The objective of this project is to develop a regression model to predict housing prices in Hyderabad, India. Using features such as the property's area, location, number of bedrooms, and available amenities, the model will aim to estimate the market value of a property as accurately as possible.\n",
    "\n",
    "- This predictive model will be a valuable tool for:\n",
    "- Home Buyers and Sellers: To obtain an objective price estimate for a property.\n",
    "- Real Estate Agents: To assist with property valuation and client advisory.\n",
    "- Investors: To identify potentially undervalued or overvalued properties in the market."
   ]
  },
  {
   "cell_type": "code",
   "execution_count": 2,
   "id": "57b7572c",
   "metadata": {},
   "outputs": [],
   "source": [
    "import pandas as pd\n",
    "\n",
    "datasetPath = '../../datasets/processed/housing_prices/hyderabad_house_price_original.parquet'\n",
    "\n",
    "dataset = pd.read_parquet(datasetPath)\n"
   ]
  }
 ],
 "metadata": {
  "kernelspec": {
   "display_name": ".venv",
   "language": "python",
   "name": "python3"
  },
  "language_info": {
   "codemirror_mode": {
    "name": "ipython",
    "version": 3
   },
   "file_extension": ".py",
   "mimetype": "text/x-python",
   "name": "python",
   "nbconvert_exporter": "python",
   "pygments_lexer": "ipython3",
   "version": "3.13.0"
  }
 },
 "nbformat": 4,
 "nbformat_minor": 5
}
