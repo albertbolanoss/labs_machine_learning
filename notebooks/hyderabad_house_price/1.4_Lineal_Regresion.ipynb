{
 "cells": [
  {
   "cell_type": "markdown",
   "id": "00d2cfa4",
   "metadata": {},
   "source": [
    "# Housing prices in Hyderabad, India"
   ]
  },
  {
   "cell_type": "markdown",
   "id": "6ab10eea",
   "metadata": {},
   "source": [
    "## Project Objective 🎯\n",
    "\n",
    "The objective of this project is to develop a regression model to predict housing prices in Hyderabad, India. Using features such as the property's area, location, number of bedrooms, and available amenities, the model will aim to estimate the market value of a property as accurately as possible.\n",
    "\n",
    "- This predictive model will be a valuable tool for:\n",
    "- Home Buyers and Sellers: To obtain an objective price estimate for a property.\n",
    "- Real Estate Agents: To assist with property valuation and client advisory.\n",
    "- Investors: To identify potentially undervalued or overvalued properties in the market."
   ]
  },
  {
   "cell_type": "markdown",
   "id": "14c1ec3c",
   "metadata": {},
   "source": [
    "## 1.1 Getting training, validation, test datasets"
   ]
  },
  {
   "cell_type": "code",
   "execution_count": 1,
   "id": "d1fc8620",
   "metadata": {},
   "outputs": [],
   "source": [
    "import pandas as pd\n",
    "import numpy as np\n",
    "from sklearn.linear_model import LinearRegression\n",
    "from sklearn.metrics import mean_absolute_error, mean_squared_error, r2_score\n",
    "import sys\n",
    "\n",
    "sys.path.append('../../src/utils')\n",
    "\n",
    "\n",
    "# Utilities\n",
    "from regresion_metrics import evaluate_model_metrics, show_model_equation, get_model_coeficients_dataframe\n",
    "\n",
    "\n",
    "training_features = pd.read_parquet('../../datasets/processed/housing_prices/hyderabad_house_price_training_features.parquet')\n",
    "training_labels = pd.read_parquet('../../datasets/processed/housing_prices/hyderabad_house_price_training_labels.parquet')\n",
    "\n",
    "validation_features = pd.read_parquet('../../datasets/processed/housing_prices/hyderabad_house_price_validation_features.parquet')\n",
    "validation_labels = pd.read_parquet('../../datasets/processed/housing_prices/hyderabad_house_price_validation_labels.parquet')\n",
    "\n",
    "test_features = pd.read_parquet('../../datasets/processed/housing_prices/hyderabad_house_price_test_features.parquet')\n",
    "test_labels= pd.read_parquet('../../datasets/processed/housing_prices/hyderabad_house_price_test_labels.parquet')\n"
   ]
  },
  {
   "cell_type": "markdown",
   "id": "fa4a5d3e",
   "metadata": {},
   "source": [
    "## 1.2 Training and Predict with predetermined hyperparameters"
   ]
  },
  {
   "cell_type": "code",
   "execution_count": 4,
   "id": "f9b1a884",
   "metadata": {},
   "outputs": [
    {
     "name": "stdout",
     "output_type": "stream",
     "text": [
      "\n",
      "--- Regresion Metrics ---\n",
      "      Validation Set  Test Set\n",
      "MAE           0.1501    0.1605\n",
      "MSE           0.0393    0.0516\n",
      "RMSE          0.1982    0.2272\n",
      "R²            0.8859    0.8750\n",
      "\n",
      "--- Regresion Model Equation ---\n",
      "y = 5.3275 + 1.3755 x (Area) - 0.0638 x (No. of Bedrooms) + 0.0353 x (Resale) - 0.0647 x (MaintenanceStaff) - 0.0524 x (Gymnasium) + 0.0108 x (SwimmingPool) + 0.1009 x (LandscapedGardens) - 0.0215 x (JoggingTrack) - 0.0596 x (RainWaterHarvesting) + 0.0582 x (IndoorGames) + 0.0484 x (ShoppingMall) - 0.0108 x (Intercom) + 0.0008 x (SportsFacility) + 0.0218 x (ATM) + 0.0374 x (ClubHouse) - 0.0927 x (School) + 0.0141 x (24X7Security) + 0.0185 x (PowerBackup) - 0.0272 x (CarParking) - 0.0780 x (StaffQuarter) - 0.0432 x (Cafeteria) + 0.0599 x (MultipurposeRoom) + 0.0515 x (Hospital) - 0.0192 x (WashingMachine) + 0.0338 x (Gasconnection) + 0.0738 x (AC) - 0.0209 x (Wifi) + 0.0426 x (Children'splayarea) + 0.0181 x (LiftAvailable) + 0.0116 x (BED) - 0.0043 x (VaastuCompliant) - 0.1191 x (Microwave) - 0.1602 x (GolfCourse) + 0.1905 x (TV) - 0.0434 x (DiningTable) - 0.0708 x (Sofa) + 0.0313 x (Wardrobe) + 0.0175 x (Refrigerator) + 0.3750 x (Location_Alwal) + 0.3680 x (Location_Aminpur) + 0.7204 x (Location_Appa Junction) + 0.5790 x (Location_Appa Junction Peerancheru) + 0.4565 x (Location_Attapur) + 0.3371 x (Location_Bachupally) + 0.3430 x (Location_Bachupally Road) + 0.3891 x (Location_Balanagar) + 0.4192 x (Location_Bandlaguda Jagir) + 0.9853 x (Location_Banjara Hills) + 0.2422 x (Location_Beeramguda) + 0.8372 x (Location_Begumpet) + 0.5881 x (Location_Chandanagar) + 0.7072 x (Location_Darga Khaliz Khan) + 0.8618 x (Location_East Marredpally) + 0.6962 x (Location_Gachibowli) + 0.5545 x (Location_Gajularamaram) + 0.2556 x (Location_Gajulramaram Kukatpally) + 0.5184 x (Location_Gandipet) + 0.8278 x (Location_Hitech City) + 1.0162 x (Location_Jubilee Hills) + 0.5392 x (Location_Kachiguda) + 0.7038 x (Location_Kokapet) + 0.3095 x (Location_Kollur Road) + 0.5218 x (Location_Kompally) + 0.6889 x (Location_Kondapur) + 0.2099 x (Location_Krishna Reddy Pet) + 0.7154 x (Location_Kukatpally) + 0.5683 x (Location_LB Nagar) + 0.8804 x (Location_Madhapur) + 0.5451 x (Location_Madinaguda) + 0.6834 x (Location_Malkajgiri) + 0.3744 x (Location_Mallampet) + 0.3818 x (Location_Mallapur) + 0.5116 x (Location_Manikonda) + 0.4647 x (Location_Mehdipatnam) + 0.5966 x (Location_Miyapur) + 0.1667 x (Location_Nagole) + 0.5297 x (Location_Nallagandla Gachibowli) + 0.6017 x (Location_Nanakramguda) + 0.6399 x (Location_Narsingi) + 0.3973 x (Location_Nizampet) + 0.5274 x (Location_Other) + 0.2136 x (Location_Patancheru) + 0.4733 x (Location_Pragathi Nagar Kukatpally) + 0.3696 x (Location_Puppalaguda) + 0.8609 x (Location_Sanath Nagar) + 0.6236 x (Location_Serilingampally) + 0.7336 x (Location_Shaikpet) + 0.6281 x (Location_Tarnaka) + 0.5463 x (Location_Tellapur) + 0.6514 x (Location_TellapurOsman Nagar Road) + 0.5316 x (Location_Toli Chowki) + 0.7267 x (Location_West Marredpally) \n",
      "\n",
      "--- Coeficients ---\n"
     ]
    },
    {
     "data": {
      "application/vnd.microsoft.datawrangler.viewer.v0+json": {
       "columns": [
        {
         "name": "index",
         "rawType": "object",
         "type": "string"
        },
        {
         "name": "Coeficiente (m)",
         "rawType": "float64",
         "type": "float"
        }
       ],
       "ref": "f1ec4f7a-b7cb-4562-a74d-ae4100d80869",
       "rows": [
        [
         "Area",
         "1.3754925412057704"
        ],
        [
         "No. of Bedrooms",
         "-0.0637521556534818"
        ],
        [
         "Resale",
         "0.035314604090427665"
        ],
        [
         "MaintenanceStaff",
         "-0.06470659551574948"
        ],
        [
         "Gymnasium",
         "-0.05237728145141257"
        ],
        [
         "SwimmingPool",
         "0.010805396003396917"
        ],
        [
         "LandscapedGardens",
         "0.10091053900159858"
        ],
        [
         "JoggingTrack",
         "-0.021511840059804554"
        ],
        [
         "RainWaterHarvesting",
         "-0.05959493132734631"
        ],
        [
         "IndoorGames",
         "0.05816053540489524"
        ],
        [
         "ShoppingMall",
         "0.04838892084408897"
        ],
        [
         "Intercom",
         "-0.010791587476012623"
        ],
        [
         "SportsFacility",
         "0.0008351485950096604"
        ],
        [
         "ATM",
         "0.02179123142940409"
        ],
        [
         "ClubHouse",
         "0.037396755860700875"
        ],
        [
         "School",
         "-0.09268680894599068"
        ],
        [
         "24X7Security",
         "0.014092860180704547"
        ],
        [
         "PowerBackup",
         "0.018478625085798783"
        ],
        [
         "CarParking",
         "-0.027163771813163318"
        ],
        [
         "StaffQuarter",
         "-0.07797806537604612"
        ],
        [
         "Cafeteria",
         "-0.04316263162069356"
        ],
        [
         "MultipurposeRoom",
         "0.059859626077368944"
        ],
        [
         "Hospital",
         "0.05149666791992735"
        ],
        [
         "WashingMachine",
         "-0.019193621807464645"
        ],
        [
         "Gasconnection",
         "0.03377309810867035"
        ],
        [
         "AC",
         "0.07377015665978859"
        ],
        [
         "Wifi",
         "-0.02092613686846123"
        ],
        [
         "Children'splayarea",
         "0.04256601219326983"
        ],
        [
         "LiftAvailable",
         "0.018137157151428274"
        ],
        [
         "BED",
         "0.011602697151414099"
        ],
        [
         "VaastuCompliant",
         "-0.004268318921555714"
        ],
        [
         "Microwave",
         "-0.11909729722949533"
        ],
        [
         "GolfCourse",
         "-0.16024132516880374"
        ],
        [
         "TV",
         "0.19054528720206176"
        ],
        [
         "DiningTable",
         "-0.0434187279030418"
        ],
        [
         "Sofa",
         "-0.07080941379704317"
        ],
        [
         "Wardrobe",
         "0.0312620009285797"
        ],
        [
         "Refrigerator",
         "0.01753916362484524"
        ],
        [
         "Location_Alwal",
         "0.37495520645458325"
        ],
        [
         "Location_Aminpur",
         "0.36798051095365897"
        ],
        [
         "Location_Appa Junction",
         "0.7204198593971705"
        ],
        [
         "Location_Appa Junction Peerancheru",
         "0.5789584729118911"
        ],
        [
         "Location_Attapur",
         "0.45646364322821176"
        ],
        [
         "Location_Bachupally",
         "0.33709192432997953"
        ],
        [
         "Location_Bachupally Road",
         "0.3430141829900736"
        ],
        [
         "Location_Balanagar",
         "0.38905738056692746"
        ],
        [
         "Location_Bandlaguda Jagir",
         "0.4192370148944327"
        ],
        [
         "Location_Banjara Hills",
         "0.9852887170577019"
        ],
        [
         "Location_Beeramguda",
         "0.24224964930116427"
        ],
        [
         "Location_Begumpet",
         "0.8372479649407039"
        ]
       ],
       "shape": {
        "columns": 1,
        "rows": 92
       }
      },
      "text/html": [
       "<div>\n",
       "<style scoped>\n",
       "    .dataframe tbody tr th:only-of-type {\n",
       "        vertical-align: middle;\n",
       "    }\n",
       "\n",
       "    .dataframe tbody tr th {\n",
       "        vertical-align: top;\n",
       "    }\n",
       "\n",
       "    .dataframe thead th {\n",
       "        text-align: right;\n",
       "    }\n",
       "</style>\n",
       "<table border=\"1\" class=\"dataframe\">\n",
       "  <thead>\n",
       "    <tr style=\"text-align: right;\">\n",
       "      <th></th>\n",
       "      <th>Coeficiente (m)</th>\n",
       "    </tr>\n",
       "  </thead>\n",
       "  <tbody>\n",
       "    <tr>\n",
       "      <th>Area</th>\n",
       "      <td>1.375493</td>\n",
       "    </tr>\n",
       "    <tr>\n",
       "      <th>No. of Bedrooms</th>\n",
       "      <td>-0.063752</td>\n",
       "    </tr>\n",
       "    <tr>\n",
       "      <th>Resale</th>\n",
       "      <td>0.035315</td>\n",
       "    </tr>\n",
       "    <tr>\n",
       "      <th>MaintenanceStaff</th>\n",
       "      <td>-0.064707</td>\n",
       "    </tr>\n",
       "    <tr>\n",
       "      <th>Gymnasium</th>\n",
       "      <td>-0.052377</td>\n",
       "    </tr>\n",
       "    <tr>\n",
       "      <th>...</th>\n",
       "      <td>...</td>\n",
       "    </tr>\n",
       "    <tr>\n",
       "      <th>Location_Tarnaka</th>\n",
       "      <td>0.628071</td>\n",
       "    </tr>\n",
       "    <tr>\n",
       "      <th>Location_Tellapur</th>\n",
       "      <td>0.546346</td>\n",
       "    </tr>\n",
       "    <tr>\n",
       "      <th>Location_TellapurOsman Nagar Road</th>\n",
       "      <td>0.651408</td>\n",
       "    </tr>\n",
       "    <tr>\n",
       "      <th>Location_Toli Chowki</th>\n",
       "      <td>0.531638</td>\n",
       "    </tr>\n",
       "    <tr>\n",
       "      <th>Location_West Marredpally</th>\n",
       "      <td>0.726705</td>\n",
       "    </tr>\n",
       "  </tbody>\n",
       "</table>\n",
       "<p>92 rows × 1 columns</p>\n",
       "</div>"
      ],
      "text/plain": [
       "                                   Coeficiente (m)\n",
       "Area                                      1.375493\n",
       "No. of Bedrooms                          -0.063752\n",
       "Resale                                    0.035315\n",
       "MaintenanceStaff                         -0.064707\n",
       "Gymnasium                                -0.052377\n",
       "...                                            ...\n",
       "Location_Tarnaka                          0.628071\n",
       "Location_Tellapur                         0.546346\n",
       "Location_TellapurOsman Nagar Road         0.651408\n",
       "Location_Toli Chowki                      0.531638\n",
       "Location_West Marredpally                 0.726705\n",
       "\n",
       "[92 rows x 1 columns]"
      ]
     },
     "execution_count": 4,
     "metadata": {},
     "output_type": "execute_result"
    }
   ],
   "source": [
    "# Training\n",
    "linealRegresionModel = LinearRegression()\n",
    "linealRegresionModel.fit(training_features, training_labels)\n",
    "\n",
    "# Predict data sets (validation, test)\n",
    "validation_predictions = linealRegresionModel.predict(validation_features)\n",
    "test_predictions = linealRegresionModel.predict(test_features)\n",
    "\n",
    "# Validation set metrics\n",
    "validation_metrics = evaluate_model_metrics(linealRegresionModel, validation_features, validation_labels)\n",
    "\n",
    "# Test set metrics\n",
    "test_metrics = evaluate_model_metrics(linealRegresionModel, test_features, test_labels)\n",
    "\n",
    "comparison_df = pd.DataFrame({\n",
    "    'Validation Set': validation_metrics,\n",
    "    'Test Set': test_metrics\n",
    "}).round(4)\n",
    "\n",
    "\n",
    "print(\"\\n--- Regresion Metrics ---\")\n",
    "print(comparison_df)\n",
    "\n",
    "print(\"\\n--- Regresion Model Equation ---\")\n",
    "show_model_equation(linealRegresionModel, training_features)\n",
    "\n",
    "print(\"\\n--- Coeficients ---\")\n",
    "get_model_coeficients_dataframe(linealRegresionModel, training_features)"
   ]
  },
  {
   "cell_type": "markdown",
   "id": "b6d44f86",
   "metadata": {},
   "source": [
    "### 1.3 Dimensionality Reduction"
   ]
  },
  {
   "cell_type": "code",
   "execution_count": null,
   "id": "1855870e",
   "metadata": {},
   "outputs": [],
   "source": []
  }
 ],
 "metadata": {
  "kernelspec": {
   "display_name": ".venv",
   "language": "python",
   "name": "python3"
  },
  "language_info": {
   "codemirror_mode": {
    "name": "ipython",
    "version": 3
   },
   "file_extension": ".py",
   "mimetype": "text/x-python",
   "name": "python",
   "nbconvert_exporter": "python",
   "pygments_lexer": "ipython3",
   "version": "3.13.0"
  }
 },
 "nbformat": 4,
 "nbformat_minor": 5
}
