{
 "cells": [
  {
   "cell_type": "markdown",
   "id": "00d2cfa4",
   "metadata": {},
   "source": [
    "# Housing prices in Hyderabad, India"
   ]
  },
  {
   "cell_type": "markdown",
   "id": "6ab10eea",
   "metadata": {},
   "source": [
    "## Project Objective 🎯\n",
    "\n",
    "The objective of this project is to develop a regression model to predict housing prices in Hyderabad, India. Using features such as the property's area, location, number of bedrooms, and available amenities, the model will aim to estimate the market value of a property as accurately as possible.\n",
    "\n",
    "- This predictive model will be a valuable tool for:\n",
    "- Home Buyers and Sellers: To obtain an objective price estimate for a property.\n",
    "- Real Estate Agents: To assist with property valuation and client advisory.\n",
    "- Investors: To identify potentially undervalued or overvalued properties in the market."
   ]
  },
  {
   "cell_type": "markdown",
   "id": "14c1ec3c",
   "metadata": {},
   "source": [
    "## 1.1 Getting training, validation, test datasets"
   ]
  },
  {
   "cell_type": "code",
   "execution_count": 13,
   "id": "d1fc8620",
   "metadata": {},
   "outputs": [],
   "source": [
    "import pandas as pd\n",
    "import numpy as np\n",
    "from sklearn.linear_model import LinearRegression\n",
    "from sklearn.metrics import mean_absolute_error, mean_squared_error, r2_score\n",
    "import sys\n",
    "\n",
    "sys.path.append('../../src/utils')\n",
    "\n",
    "\n",
    "# Utilities\n",
    "from regresion_metrics import evaluate_model_metrics\n",
    "\n",
    "\n",
    "training_features = pd.read_parquet('../../datasets/processed/housing_prices/hyderabad_house_price_training_features.parquet')\n",
    "training_labels = pd.read_parquet('../../datasets/processed/housing_prices/hyderabad_house_price_training_labels.parquet')\n",
    "\n",
    "validation_features = pd.read_parquet('../../datasets/processed/housing_prices/hyderabad_house_price_validation_features.parquet')\n",
    "validation_labels = pd.read_parquet('../../datasets/processed/housing_prices/hyderabad_house_price_validation_labels.parquet')\n",
    "\n",
    "test_features = pd.read_parquet('../../datasets/processed/housing_prices/hyderabad_house_price_test_features.parquet')\n",
    "test_labels= pd.read_parquet('../../datasets/processed/housing_prices/hyderabad_house_price_test_labels.parquet')\n"
   ]
  },
  {
   "cell_type": "markdown",
   "id": "fa4a5d3e",
   "metadata": {},
   "source": [
    "## 1.2 Training and Predict with predetermined hyperparameters"
   ]
  },
  {
   "cell_type": "code",
   "execution_count": 15,
   "id": "f9b1a884",
   "metadata": {},
   "outputs": [
    {
     "name": "stdout",
     "output_type": "stream",
     "text": [
      "--- Regresion Metrics ---\n",
      "      Validation Set  Test Set\n",
      "MAE           0.1501    0.1605\n",
      "MSE           0.0393    0.0516\n",
      "RMSE          0.1982    0.2272\n",
      "R²            0.8859    0.8750\n",
      "\n",
      "Intercept (b): 5.3275\n",
      "\n",
      "--- Coefficients for each feature ---\n"
     ]
    },
    {
     "data": {
      "application/vnd.microsoft.datawrangler.viewer.v0+json": {
       "columns": [
        {
         "name": "index",
         "rawType": "object",
         "type": "string"
        },
        {
         "name": "Coeficiente (m)",
         "rawType": "float64",
         "type": "float"
        }
       ],
       "ref": "7f4acd20-f6b7-4e9f-a6a9-b2d7266f790e",
       "rows": [
        [
         "Area",
         "1.3754925412057704"
        ],
        [
         "No. of Bedrooms",
         "-0.0637521556534818"
        ],
        [
         "Resale",
         "0.035314604090427665"
        ],
        [
         "MaintenanceStaff",
         "-0.06470659551574948"
        ],
        [
         "Gymnasium",
         "-0.05237728145141257"
        ],
        [
         "SwimmingPool",
         "0.010805396003396917"
        ],
        [
         "LandscapedGardens",
         "0.10091053900159858"
        ],
        [
         "JoggingTrack",
         "-0.021511840059804554"
        ],
        [
         "RainWaterHarvesting",
         "-0.05959493132734631"
        ],
        [
         "IndoorGames",
         "0.05816053540489524"
        ],
        [
         "ShoppingMall",
         "0.04838892084408897"
        ],
        [
         "Intercom",
         "-0.010791587476012623"
        ],
        [
         "SportsFacility",
         "0.0008351485950096604"
        ],
        [
         "ATM",
         "0.02179123142940409"
        ],
        [
         "ClubHouse",
         "0.037396755860700875"
        ],
        [
         "School",
         "-0.09268680894599068"
        ],
        [
         "24X7Security",
         "0.014092860180704547"
        ],
        [
         "PowerBackup",
         "0.018478625085798783"
        ],
        [
         "CarParking",
         "-0.027163771813163318"
        ],
        [
         "StaffQuarter",
         "-0.07797806537604612"
        ],
        [
         "Cafeteria",
         "-0.04316263162069356"
        ],
        [
         "MultipurposeRoom",
         "0.059859626077368944"
        ],
        [
         "Hospital",
         "0.05149666791992735"
        ],
        [
         "WashingMachine",
         "-0.019193621807464645"
        ],
        [
         "Gasconnection",
         "0.03377309810867035"
        ],
        [
         "AC",
         "0.07377015665978859"
        ],
        [
         "Wifi",
         "-0.02092613686846123"
        ],
        [
         "Children'splayarea",
         "0.04256601219326983"
        ],
        [
         "LiftAvailable",
         "0.018137157151428274"
        ],
        [
         "BED",
         "0.011602697151414099"
        ],
        [
         "VaastuCompliant",
         "-0.004268318921555714"
        ],
        [
         "Microwave",
         "-0.11909729722949533"
        ],
        [
         "GolfCourse",
         "-0.16024132516880374"
        ],
        [
         "TV",
         "0.19054528720206176"
        ],
        [
         "DiningTable",
         "-0.0434187279030418"
        ],
        [
         "Sofa",
         "-0.07080941379704317"
        ],
        [
         "Wardrobe",
         "0.0312620009285797"
        ],
        [
         "Refrigerator",
         "0.01753916362484524"
        ],
        [
         "Location_Alwal",
         "0.37495520645458325"
        ],
        [
         "Location_Aminpur",
         "0.36798051095365897"
        ],
        [
         "Location_Appa Junction",
         "0.7204198593971705"
        ],
        [
         "Location_Appa Junction Peerancheru",
         "0.5789584729118911"
        ],
        [
         "Location_Attapur",
         "0.45646364322821176"
        ],
        [
         "Location_Bachupally",
         "0.33709192432997953"
        ],
        [
         "Location_Bachupally Road",
         "0.3430141829900736"
        ],
        [
         "Location_Balanagar",
         "0.38905738056692746"
        ],
        [
         "Location_Bandlaguda Jagir",
         "0.4192370148944327"
        ],
        [
         "Location_Banjara Hills",
         "0.9852887170577019"
        ],
        [
         "Location_Beeramguda",
         "0.24224964930116427"
        ],
        [
         "Location_Begumpet",
         "0.8372479649407039"
        ]
       ],
       "shape": {
        "columns": 1,
        "rows": 92
       }
      },
      "text/html": [
       "<div>\n",
       "<style scoped>\n",
       "    .dataframe tbody tr th:only-of-type {\n",
       "        vertical-align: middle;\n",
       "    }\n",
       "\n",
       "    .dataframe tbody tr th {\n",
       "        vertical-align: top;\n",
       "    }\n",
       "\n",
       "    .dataframe thead th {\n",
       "        text-align: right;\n",
       "    }\n",
       "</style>\n",
       "<table border=\"1\" class=\"dataframe\">\n",
       "  <thead>\n",
       "    <tr style=\"text-align: right;\">\n",
       "      <th></th>\n",
       "      <th>Coeficiente (m)</th>\n",
       "    </tr>\n",
       "  </thead>\n",
       "  <tbody>\n",
       "    <tr>\n",
       "      <th>Area</th>\n",
       "      <td>1.375493</td>\n",
       "    </tr>\n",
       "    <tr>\n",
       "      <th>No. of Bedrooms</th>\n",
       "      <td>-0.063752</td>\n",
       "    </tr>\n",
       "    <tr>\n",
       "      <th>Resale</th>\n",
       "      <td>0.035315</td>\n",
       "    </tr>\n",
       "    <tr>\n",
       "      <th>MaintenanceStaff</th>\n",
       "      <td>-0.064707</td>\n",
       "    </tr>\n",
       "    <tr>\n",
       "      <th>Gymnasium</th>\n",
       "      <td>-0.052377</td>\n",
       "    </tr>\n",
       "    <tr>\n",
       "      <th>...</th>\n",
       "      <td>...</td>\n",
       "    </tr>\n",
       "    <tr>\n",
       "      <th>Location_Tarnaka</th>\n",
       "      <td>0.628071</td>\n",
       "    </tr>\n",
       "    <tr>\n",
       "      <th>Location_Tellapur</th>\n",
       "      <td>0.546346</td>\n",
       "    </tr>\n",
       "    <tr>\n",
       "      <th>Location_TellapurOsman Nagar Road</th>\n",
       "      <td>0.651408</td>\n",
       "    </tr>\n",
       "    <tr>\n",
       "      <th>Location_Toli Chowki</th>\n",
       "      <td>0.531638</td>\n",
       "    </tr>\n",
       "    <tr>\n",
       "      <th>Location_West Marredpally</th>\n",
       "      <td>0.726705</td>\n",
       "    </tr>\n",
       "  </tbody>\n",
       "</table>\n",
       "<p>92 rows × 1 columns</p>\n",
       "</div>"
      ],
      "text/plain": [
       "                                   Coeficiente (m)\n",
       "Area                                      1.375493\n",
       "No. of Bedrooms                          -0.063752\n",
       "Resale                                    0.035315\n",
       "MaintenanceStaff                         -0.064707\n",
       "Gymnasium                                -0.052377\n",
       "...                                            ...\n",
       "Location_Tarnaka                          0.628071\n",
       "Location_Tellapur                         0.546346\n",
       "Location_TellapurOsman Nagar Road         0.651408\n",
       "Location_Toli Chowki                      0.531638\n",
       "Location_West Marredpally                 0.726705\n",
       "\n",
       "[92 rows x 1 columns]"
      ]
     },
     "execution_count": 15,
     "metadata": {},
     "output_type": "execute_result"
    }
   ],
   "source": [
    "# Training\n",
    "linealRegresionModel = LinearRegression()\n",
    "linealRegresionModel.fit(training_features, training_labels)\n",
    "\n",
    "# Predict data sets (validation, test)\n",
    "validation_predictions = linealRegresionModel.predict(validation_features)\n",
    "test_predictions = linealRegresionModel.predict(test_features)\n",
    "\n",
    "# Metrics\n",
    "validation_metrics = {\n",
    "    'MAE': mean_absolute_error(validation_labels, validation_predictions),\n",
    "    'MSE': mean_squared_error(validation_labels, validation_predictions),\n",
    "    'RMSE': np.sqrt(mean_squared_error(validation_labels, validation_predictions)),\n",
    "    'R²': r2_score(validation_labels, validation_predictions)\n",
    "}\n",
    "\n",
    "test_metrics = {\n",
    "    'MAE': mean_absolute_error(test_labels, test_predictions),\n",
    "    'MSE': mean_squared_error(test_labels, test_predictions),\n",
    "    'RMSE': np.sqrt(mean_squared_error(test_labels, test_predictions)),\n",
    "    'R²': r2_score(test_labels, test_predictions)\n",
    "}\n",
    "\n",
    "comparison_df = pd.DataFrame({\n",
    "    'Validation Set': validation_metrics,\n",
    "    'Test Set': test_metrics\n",
    "})\n",
    "\n",
    "comparison_df = comparison_df.round(4)\n",
    "\n",
    "print(\"--- Regresion Metrics ---\")\n",
    "print(comparison_df)\n",
    "\n",
    "intercepto = linealRegresionModel.intercept_\n",
    "coeficientes = linealRegresionModel.coef_\n",
    "\n",
    "coeficientes_df = pd.DataFrame(\n",
    "    data=coeficientes.T,\n",
    "    index=training_features.columns, \n",
    "    columns=['Coeficiente (m)']\n",
    ")\n",
    "\n",
    "print(f\"\\nIntercept (b): {intercepto[0]:.4f}\\n\")\n",
    "print(\"--- Coefficients for each feature ---\")\n",
    "coeficientes_df"
   ]
  }
 ],
 "metadata": {
  "kernelspec": {
   "display_name": ".venv",
   "language": "python",
   "name": "python3"
  },
  "language_info": {
   "codemirror_mode": {
    "name": "ipython",
    "version": 3
   },
   "file_extension": ".py",
   "mimetype": "text/x-python",
   "name": "python",
   "nbconvert_exporter": "python",
   "pygments_lexer": "ipython3",
   "version": "3.13.0"
  }
 },
 "nbformat": 4,
 "nbformat_minor": 5
}
