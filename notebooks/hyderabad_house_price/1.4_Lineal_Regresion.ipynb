{
 "cells": [
  {
   "cell_type": "markdown",
   "id": "00d2cfa4",
   "metadata": {},
   "source": [
    "# Housing prices in Hyderabad, India"
   ]
  },
  {
   "cell_type": "markdown",
   "id": "6ab10eea",
   "metadata": {},
   "source": [
    "## Project Objective 🎯\n",
    "\n",
    "The objective of this project is to develop a regression model to predict housing prices in Hyderabad, India. Using features such as the property's area, location, number of bedrooms, and available amenities, the model will aim to estimate the market value of a property as accurately as possible.\n",
    "\n",
    "- This predictive model will be a valuable tool for:\n",
    "- Home Buyers and Sellers: To obtain an objective price estimate for a property.\n",
    "- Real Estate Agents: To assist with property valuation and client advisory.\n",
    "- Investors: To identify potentially undervalued or overvalued properties in the market."
   ]
  },
  {
   "cell_type": "markdown",
   "id": "14c1ec3c",
   "metadata": {},
   "source": [
    "## 1.1 Getting training, validation, test datasets"
   ]
  },
  {
   "cell_type": "code",
   "execution_count": 27,
   "id": "d1fc8620",
   "metadata": {},
   "outputs": [],
   "source": [
    "import pandas as pd\n",
    "import numpy as np\n",
    "from sklearn.linear_model import LinearRegression\n",
    "from sklearn.metrics import mean_absolute_error, mean_squared_error, r2_score\n",
    "from sklearn.decomposition import PCA\n",
    "import sys\n",
    "\n",
    "sys.path.append('../../src/utils')\n",
    "\n",
    "\n",
    "# Utilities\n",
    "from regresion_metrics import evaluate_model_metrics, show_model_equation, get_model_coeficients_dataframe\n",
    "\n",
    "\n",
    "training_features = pd.read_parquet('../../datasets/processed/housing_prices/hyderabad_house_price_training_features.parquet')\n",
    "training_labels = pd.read_parquet('../../datasets/processed/housing_prices/hyderabad_house_price_training_labels.parquet')\n",
    "\n",
    "validation_features = pd.read_parquet('../../datasets/processed/housing_prices/hyderabad_house_price_validation_features.parquet')\n",
    "validation_labels = pd.read_parquet('../../datasets/processed/housing_prices/hyderabad_house_price_validation_labels.parquet')\n",
    "\n",
    "test_features = pd.read_parquet('../../datasets/processed/housing_prices/hyderabad_house_price_test_features.parquet')\n",
    "test_labels= pd.read_parquet('../../datasets/processed/housing_prices/hyderabad_house_price_test_labels.parquet')\n"
   ]
  },
  {
   "cell_type": "markdown",
   "id": "fa4a5d3e",
   "metadata": {},
   "source": [
    "## 1.2 Training and Predict with predetermined hyperparameters"
   ]
  },
  {
   "cell_type": "code",
   "execution_count": 28,
   "id": "f9b1a884",
   "metadata": {},
   "outputs": [
    {
     "name": "stdout",
     "output_type": "stream",
     "text": [
      "\n",
      "--- Regresion Metrics ---\n",
      "      Validation Set  Test Set\n",
      "MAE           0.1501    0.1605\n",
      "MSE           0.0393    0.0516\n",
      "RMSE          0.1982    0.2272\n",
      "R²            0.8859    0.8750\n",
      "\n",
      "--- Regresion Model Equation ---\n",
      "y = 5.3275 + 1.3755 x (Area) - 0.0638 x (No. of Bedrooms) + 0.0353 x (Resale) - 0.0647 x (MaintenanceStaff) - 0.0524 x (Gymnasium) + 0.0108 x (SwimmingPool) + 0.1009 x (LandscapedGardens) - 0.0215 x (JoggingTrack) - 0.0596 x (RainWaterHarvesting) + 0.0582 x (IndoorGames) + 0.0484 x (ShoppingMall) - 0.0108 x (Intercom) + 0.0008 x (SportsFacility) + 0.0218 x (ATM) + 0.0374 x (ClubHouse) - 0.0927 x (School) + 0.0141 x (24X7Security) + 0.0185 x (PowerBackup) - 0.0272 x (CarParking) - 0.0780 x (StaffQuarter) - 0.0432 x (Cafeteria) + 0.0599 x (MultipurposeRoom) + 0.0515 x (Hospital) - 0.0192 x (WashingMachine) + 0.0338 x (Gasconnection) + 0.0738 x (AC) - 0.0209 x (Wifi) + 0.0426 x (Children'splayarea) + 0.0181 x (LiftAvailable) + 0.0116 x (BED) - 0.0043 x (VaastuCompliant) - 0.1191 x (Microwave) - 0.1602 x (GolfCourse) + 0.1905 x (TV) - 0.0434 x (DiningTable) - 0.0708 x (Sofa) + 0.0313 x (Wardrobe) + 0.0175 x (Refrigerator) + 0.3750 x (Location_Alwal) + 0.3680 x (Location_Aminpur) + 0.7204 x (Location_Appa Junction) + 0.5790 x (Location_Appa Junction Peerancheru) + 0.4565 x (Location_Attapur) + 0.3371 x (Location_Bachupally) + 0.3430 x (Location_Bachupally Road) + 0.3891 x (Location_Balanagar) + 0.4192 x (Location_Bandlaguda Jagir) + 0.9853 x (Location_Banjara Hills) + 0.2422 x (Location_Beeramguda) + 0.8372 x (Location_Begumpet) + 0.5881 x (Location_Chandanagar) + 0.7072 x (Location_Darga Khaliz Khan) + 0.8618 x (Location_East Marredpally) + 0.6962 x (Location_Gachibowli) + 0.5545 x (Location_Gajularamaram) + 0.2556 x (Location_Gajulramaram Kukatpally) + 0.5184 x (Location_Gandipet) + 0.8278 x (Location_Hitech City) + 1.0162 x (Location_Jubilee Hills) + 0.5392 x (Location_Kachiguda) + 0.7038 x (Location_Kokapet) + 0.3095 x (Location_Kollur Road) + 0.5218 x (Location_Kompally) + 0.6889 x (Location_Kondapur) + 0.2099 x (Location_Krishna Reddy Pet) + 0.7154 x (Location_Kukatpally) + 0.5683 x (Location_LB Nagar) + 0.8804 x (Location_Madhapur) + 0.5451 x (Location_Madinaguda) + 0.6834 x (Location_Malkajgiri) + 0.3744 x (Location_Mallampet) + 0.3818 x (Location_Mallapur) + 0.5116 x (Location_Manikonda) + 0.4647 x (Location_Mehdipatnam) + 0.5966 x (Location_Miyapur) + 0.1667 x (Location_Nagole) + 0.5297 x (Location_Nallagandla Gachibowli) + 0.6017 x (Location_Nanakramguda) + 0.6399 x (Location_Narsingi) + 0.3973 x (Location_Nizampet) + 0.5274 x (Location_Other) + 0.2136 x (Location_Patancheru) + 0.4733 x (Location_Pragathi Nagar Kukatpally) + 0.3696 x (Location_Puppalaguda) + 0.8609 x (Location_Sanath Nagar) + 0.6236 x (Location_Serilingampally) + 0.7336 x (Location_Shaikpet) + 0.6281 x (Location_Tarnaka) + 0.5463 x (Location_Tellapur) + 0.6514 x (Location_TellapurOsman Nagar Road) + 0.5316 x (Location_Toli Chowki) + 0.7267 x (Location_West Marredpally) \n",
      "\n",
      "--- Coeficients ---\n"
     ]
    },
    {
     "data": {
      "application/vnd.microsoft.datawrangler.viewer.v0+json": {
       "columns": [
        {
         "name": "index",
         "rawType": "object",
         "type": "string"
        },
        {
         "name": "Coeficiente (m)",
         "rawType": "float64",
         "type": "float"
        }
       ],
       "ref": "f9de15ad-70d8-41b1-b2fc-5faed8666f2b",
       "rows": [
        [
         "Area",
         "1.3754925412057704"
        ],
        [
         "No. of Bedrooms",
         "-0.0637521556534818"
        ],
        [
         "Resale",
         "0.035314604090427665"
        ],
        [
         "MaintenanceStaff",
         "-0.06470659551574948"
        ],
        [
         "Gymnasium",
         "-0.05237728145141257"
        ],
        [
         "SwimmingPool",
         "0.010805396003396917"
        ],
        [
         "LandscapedGardens",
         "0.10091053900159858"
        ],
        [
         "JoggingTrack",
         "-0.021511840059804554"
        ],
        [
         "RainWaterHarvesting",
         "-0.05959493132734631"
        ],
        [
         "IndoorGames",
         "0.05816053540489524"
        ],
        [
         "ShoppingMall",
         "0.04838892084408897"
        ],
        [
         "Intercom",
         "-0.010791587476012623"
        ],
        [
         "SportsFacility",
         "0.0008351485950096604"
        ],
        [
         "ATM",
         "0.02179123142940409"
        ],
        [
         "ClubHouse",
         "0.037396755860700875"
        ],
        [
         "School",
         "-0.09268680894599068"
        ],
        [
         "24X7Security",
         "0.014092860180704547"
        ],
        [
         "PowerBackup",
         "0.018478625085798783"
        ],
        [
         "CarParking",
         "-0.027163771813163318"
        ],
        [
         "StaffQuarter",
         "-0.07797806537604612"
        ],
        [
         "Cafeteria",
         "-0.04316263162069356"
        ],
        [
         "MultipurposeRoom",
         "0.059859626077368944"
        ],
        [
         "Hospital",
         "0.05149666791992735"
        ],
        [
         "WashingMachine",
         "-0.019193621807464645"
        ],
        [
         "Gasconnection",
         "0.03377309810867035"
        ],
        [
         "AC",
         "0.07377015665978859"
        ],
        [
         "Wifi",
         "-0.02092613686846123"
        ],
        [
         "Children'splayarea",
         "0.04256601219326983"
        ],
        [
         "LiftAvailable",
         "0.018137157151428274"
        ],
        [
         "BED",
         "0.011602697151414099"
        ],
        [
         "VaastuCompliant",
         "-0.004268318921555714"
        ],
        [
         "Microwave",
         "-0.11909729722949533"
        ],
        [
         "GolfCourse",
         "-0.16024132516880374"
        ],
        [
         "TV",
         "0.19054528720206176"
        ],
        [
         "DiningTable",
         "-0.0434187279030418"
        ],
        [
         "Sofa",
         "-0.07080941379704317"
        ],
        [
         "Wardrobe",
         "0.0312620009285797"
        ],
        [
         "Refrigerator",
         "0.01753916362484524"
        ],
        [
         "Location_Alwal",
         "0.37495520645458325"
        ],
        [
         "Location_Aminpur",
         "0.36798051095365897"
        ],
        [
         "Location_Appa Junction",
         "0.7204198593971705"
        ],
        [
         "Location_Appa Junction Peerancheru",
         "0.5789584729118911"
        ],
        [
         "Location_Attapur",
         "0.45646364322821176"
        ],
        [
         "Location_Bachupally",
         "0.33709192432997953"
        ],
        [
         "Location_Bachupally Road",
         "0.3430141829900736"
        ],
        [
         "Location_Balanagar",
         "0.38905738056692746"
        ],
        [
         "Location_Bandlaguda Jagir",
         "0.4192370148944327"
        ],
        [
         "Location_Banjara Hills",
         "0.9852887170577019"
        ],
        [
         "Location_Beeramguda",
         "0.24224964930116427"
        ],
        [
         "Location_Begumpet",
         "0.8372479649407039"
        ]
       ],
       "shape": {
        "columns": 1,
        "rows": 92
       }
      },
      "text/html": [
       "<div>\n",
       "<style scoped>\n",
       "    .dataframe tbody tr th:only-of-type {\n",
       "        vertical-align: middle;\n",
       "    }\n",
       "\n",
       "    .dataframe tbody tr th {\n",
       "        vertical-align: top;\n",
       "    }\n",
       "\n",
       "    .dataframe thead th {\n",
       "        text-align: right;\n",
       "    }\n",
       "</style>\n",
       "<table border=\"1\" class=\"dataframe\">\n",
       "  <thead>\n",
       "    <tr style=\"text-align: right;\">\n",
       "      <th></th>\n",
       "      <th>Coeficiente (m)</th>\n",
       "    </tr>\n",
       "  </thead>\n",
       "  <tbody>\n",
       "    <tr>\n",
       "      <th>Area</th>\n",
       "      <td>1.375493</td>\n",
       "    </tr>\n",
       "    <tr>\n",
       "      <th>No. of Bedrooms</th>\n",
       "      <td>-0.063752</td>\n",
       "    </tr>\n",
       "    <tr>\n",
       "      <th>Resale</th>\n",
       "      <td>0.035315</td>\n",
       "    </tr>\n",
       "    <tr>\n",
       "      <th>MaintenanceStaff</th>\n",
       "      <td>-0.064707</td>\n",
       "    </tr>\n",
       "    <tr>\n",
       "      <th>Gymnasium</th>\n",
       "      <td>-0.052377</td>\n",
       "    </tr>\n",
       "    <tr>\n",
       "      <th>...</th>\n",
       "      <td>...</td>\n",
       "    </tr>\n",
       "    <tr>\n",
       "      <th>Location_Tarnaka</th>\n",
       "      <td>0.628071</td>\n",
       "    </tr>\n",
       "    <tr>\n",
       "      <th>Location_Tellapur</th>\n",
       "      <td>0.546346</td>\n",
       "    </tr>\n",
       "    <tr>\n",
       "      <th>Location_TellapurOsman Nagar Road</th>\n",
       "      <td>0.651408</td>\n",
       "    </tr>\n",
       "    <tr>\n",
       "      <th>Location_Toli Chowki</th>\n",
       "      <td>0.531638</td>\n",
       "    </tr>\n",
       "    <tr>\n",
       "      <th>Location_West Marredpally</th>\n",
       "      <td>0.726705</td>\n",
       "    </tr>\n",
       "  </tbody>\n",
       "</table>\n",
       "<p>92 rows × 1 columns</p>\n",
       "</div>"
      ],
      "text/plain": [
       "                                   Coeficiente (m)\n",
       "Area                                      1.375493\n",
       "No. of Bedrooms                          -0.063752\n",
       "Resale                                    0.035315\n",
       "MaintenanceStaff                         -0.064707\n",
       "Gymnasium                                -0.052377\n",
       "...                                            ...\n",
       "Location_Tarnaka                          0.628071\n",
       "Location_Tellapur                         0.546346\n",
       "Location_TellapurOsman Nagar Road         0.651408\n",
       "Location_Toli Chowki                      0.531638\n",
       "Location_West Marredpally                 0.726705\n",
       "\n",
       "[92 rows x 1 columns]"
      ]
     },
     "execution_count": 28,
     "metadata": {},
     "output_type": "execute_result"
    }
   ],
   "source": [
    "# Training\n",
    "linealRegresionModel = LinearRegression()\n",
    "linealRegresionModel.fit(training_features, training_labels)\n",
    "\n",
    "# Predict data sets (validation, test)\n",
    "validation_predictions = linealRegresionModel.predict(validation_features)\n",
    "test_predictions = linealRegresionModel.predict(test_features)\n",
    "\n",
    "validation_rmse = np.sqrt(mean_squared_error(validation_labels, validation_predictions))\n",
    "validation_r2_score = r2_score(validation_labels, validation_predictions)\n",
    "\n",
    "# Validation set metrics\n",
    "validation_metrics = {\n",
    "    'MAE': mean_absolute_error(validation_labels, validation_predictions),\n",
    "    'MSE': mean_squared_error(validation_labels, validation_predictions),\n",
    "    'RMSE': validation_rmse,\n",
    "    'R²': validation_r2_score\n",
    "}\n",
    "\n",
    "# Test set metrics\n",
    "test_metrics = {\n",
    "    'MAE': mean_absolute_error(test_labels, test_predictions),\n",
    "    'MSE': mean_squared_error(test_labels, test_predictions),\n",
    "    'RMSE': np.sqrt(mean_squared_error(test_labels, test_predictions)),\n",
    "    'R²': r2_score(test_labels, test_predictions)\n",
    "}\n",
    "\n",
    "comparison_df = pd.DataFrame({\n",
    "    'Validation Set': validation_metrics,\n",
    "    'Test Set': test_metrics\n",
    "}).round(4)\n",
    "\n",
    "\n",
    "print(\"\\n--- Regresion Metrics ---\")\n",
    "print(comparison_df)\n",
    "\n",
    "print(\"\\n--- Regresion Model Equation ---\")\n",
    "show_model_equation(linealRegresionModel, training_features)\n",
    "\n",
    "print(\"\\n--- Coeficients ---\")\n",
    "get_model_coeficients_dataframe(linealRegresionModel, training_features)"
   ]
  },
  {
   "cell_type": "markdown",
   "id": "b6d44f86",
   "metadata": {},
   "source": [
    "### 1.3 Dimensionality Reduction"
   ]
  },
  {
   "cell_type": "markdown",
   "id": "9f90ab25",
   "metadata": {},
   "source": [
    "Problem:\n",
    "\n",
    "Having too many features (high dimensionality) causes models to overfit, become unstable due to redundant data (multicollinearity), and require significant computational resources to train.\n",
    "\n",
    "Justification:\n",
    "\n",
    "PCA reduces the number of features by creating a smaller set of new, uncorrelated features called principal components. This method retains most of the original data's important information (variance) while making the model simpler, faster, and less prone to overfitting.\n",
    "\n",
    "Action:\n",
    "\n",
    "- Scale the numerical features first.\n",
    "- Apply PCA to the scaled data.\n",
    "- Select the top principal components that explain most of the variance.\n",
    "- Transform the dataset into this new, smaller set of features."
   ]
  },
  {
   "cell_type": "code",
   "execution_count": 31,
   "id": "5c6d5caf",
   "metadata": {},
   "outputs": [
    {
     "name": "stdout",
     "output_type": "stream",
     "text": [
      "Inital Regresion RMSE: 0.1982084184914916 - Initial Regresion R2 Score: 0.8859082519240723\n",
      "Best PCA RMSE: 0.050623645044639835 - Best PCA R2 Score: 0.8529843887019305\n"
     ]
    },
    {
     "data": {
      "application/vnd.microsoft.datawrangler.viewer.v0+json": {
       "columns": [
        {
         "name": "index",
         "rawType": "int64",
         "type": "integer"
        },
        {
         "name": "Components",
         "rawType": "int64",
         "type": "integer"
        },
        {
         "name": "Explained Variance",
         "rawType": "float64",
         "type": "float"
        },
        {
         "name": "PCA_RMSE",
         "rawType": "float64",
         "type": "float"
        },
        {
         "name": "PCA_R2_Score",
         "rawType": "float64",
         "type": "float"
        },
        {
         "name": "PCA_SCALED_RMSE",
         "rawType": "float64",
         "type": "float"
        },
        {
         "name": "PCA_SCALED_R2_SCORE",
         "rawType": "float64",
         "type": "float"
        },
        {
         "name": "SCALED_COMPONENTS",
         "rawType": "float64",
         "type": "float"
        },
        {
         "name": "SCORE",
         "rawType": "float64",
         "type": "float"
        }
       ],
       "ref": "5482458e-4643-4921-87d7-a5b7bace4a0b",
       "rows": [
        [
         "0",
         "1",
         "0.3699248643668718",
         "0.2547143212040344",
         "0.2602867374492043",
         "1.0",
         "0.7663203934155146",
         "0.0",
         "1.7663203934155147"
        ],
        [
         "1",
         "2",
         "0.45454223694604406",
         "0.15085793366808775",
         "0.5618950133318016",
         "0.5179061638636903",
         "0.2842265572792048",
         "0.01098901098901099",
         "0.813121732131906"
        ],
        [
         "2",
         "3",
         "0.5202279740672854",
         "0.12293540626095548",
         "0.6429845404120192",
         "0.38829181204862795",
         "0.15461220546414262",
         "0.02197802197802198",
         "0.5648820394907926"
        ],
        [
         "3",
         "4",
         "0.5691374525900764",
         "0.1228171647758697",
         "0.6433279243029926",
         "0.3877429436305374",
         "0.15406333704605193",
         "0.03296703296703297",
         "0.5747733136436223"
        ],
        [
         "4",
         "5",
         "0.6040281725310744",
         "0.12450782328031848",
         "0.6384181001820972",
         "0.39559085807608924",
         "0.1619112514916038",
         "0.04395604395604396",
         "0.601458153523737"
        ],
        [
         "5",
         "6",
         "0.6316906941558189",
         "0.12153787062049501",
         "0.6470431094129666",
         "0.3818045527280242",
         "0.14812494614353883",
         "0.054945054945054944",
         "0.584874553816618"
        ],
        [
         "6",
         "7",
         "0.6557766479331095",
         "0.11915521442163347",
         "0.6539625569809929",
         "0.3707444350563448",
         "0.13706482847185944",
         "0.06593406593406594",
         "0.5737433294622701"
        ],
        [
         "7",
         "8",
         "0.6788601565463901",
         "0.11759494563137123",
         "0.6584937176626751",
         "0.36350178022935176",
         "0.12982217364486634",
         "0.07692307692307693",
         "0.5702470307972951"
        ],
        [
         "8",
         "9",
         "0.6983742955716886",
         "0.11419842347619259",
         "0.6683575230147137",
         "0.34773537014942013",
         "0.11405576356493469",
         "0.08791208791208792",
         "0.5497032216264427"
        ],
        [
         "9",
         "10",
         "0.7153906713973849",
         "0.1139977856830737",
         "0.6689401931835421",
         "0.3468040240314441",
         "0.11312441744695874",
         "0.0989010989010989",
         "0.5588295403795017"
        ],
        [
         "10",
         "11",
         "0.7306918232364076",
         "0.11399472658788137",
         "0.6689490770706925",
         "0.3467898239329103",
         "0.113110217348425",
         "0.10989010989010989",
         "0.5697901511714452"
        ],
        [
         "11",
         "12",
         "0.7451243007212334",
         "0.11315786571547616",
         "0.6713793961956707",
         "0.3429051763165029",
         "0.10922556973201733",
         "0.12087912087912088",
         "0.5730098669276411"
        ],
        [
         "12",
         "13",
         "0.7585836145245145",
         "0.11316419924573404",
         "0.6713610030550401",
         "0.34293457610568046",
         "0.109254969521195",
         "0.13186813186813187",
         "0.5840576774950074"
        ],
        [
         "13",
         "14",
         "0.7717394376505294",
         "0.11317358092448862",
         "0.6713337578174463",
         "0.34297812517962284",
         "0.10929851859513734",
         "0.14285714285714285",
         "0.5951337866319031"
        ],
        [
         "14",
         "15",
         "0.7839914015812621",
         "0.11319182650776692",
         "0.671280771005122",
         "0.34306281985699305",
         "0.1093832132725076",
         "0.15384615384615385",
         "0.6062921869756546"
        ],
        [
         "15",
         "16",
         "0.7954375520738094",
         "0.11311952317070946",
         "0.671490746388898",
         "0.34272719299807286",
         "0.10904758641358742",
         "0.16483516483516483",
         "0.6166099442468251"
        ],
        [
         "16",
         "17",
         "0.8055413814210284",
         "0.11330231070600781",
         "0.6709599149717637",
         "0.3435756795108488",
         "0.10989607292636337",
         "0.17582417582417584",
         "0.629295928261388"
        ],
        [
         "17",
         "18",
         "0.8152390758170399",
         "0.11341723808667085",
         "0.6706261555376463",
         "0.3441091640960099",
         "0.11042955751152433",
         "0.18681318681318682",
         "0.6413519084207211"
        ],
        [
         "18",
         "19",
         "0.8241631074624073",
         "0.11287208856496588",
         "0.672209318704021",
         "0.3415786194620011",
         "0.10789901287751567",
         "0.1978021978021978",
         "0.6472798301417145"
        ],
        [
         "19",
         "20",
         "0.8328179940406099",
         "0.11040085352886356",
         "0.6793860071699231",
         "0.33010732523720754",
         "0.09642771865272215",
         "0.2087912087912088",
         "0.6353262526811385"
        ],
        [
         "20",
         "21",
         "0.8403790614997991",
         "0.10984220589709386",
         "0.6810083700600789",
         "0.3275141233529701",
         "0.09383451676848471",
         "0.21978021978021978",
         "0.6411288599016746"
        ],
        [
         "21",
         "22",
         "0.847529771938015",
         "0.10724432151712952",
         "0.6885528595938804",
         "0.3154549320380198",
         "0.08177532545353425",
         "0.23076923076923078",
         "0.6279994882607849"
        ],
        [
         "22",
         "23",
         "0.854329058488942",
         "0.10727632491354415",
         "0.6884599188567335",
         "0.31560348948848543",
         "0.08192388290399988",
         "0.24175824175824176",
         "0.639285614150727"
        ],
        [
         "23",
         "24",
         "0.8608181293289809",
         "0.10428328443885551",
         "0.6971519771752959",
         "0.30171001217439664",
         "0.06803040558991126",
         "0.25274725274725274",
         "0.6224876705115606"
        ],
        [
         "24",
         "25",
         "0.8670860840606174",
         "0.09662858258424463",
         "0.7193819187661818",
         "0.2661774400416349",
         "0.03249783345714942",
         "0.26373626373626374",
         "0.562411537235048"
        ],
        [
         "25",
         "26",
         "0.8730589380987663",
         "0.0969650252719658",
         "0.7184048589879206",
         "0.2677391826538297",
         "0.0340595760693442",
         "0.27472527472527475",
         "0.5765240334484486"
        ],
        [
         "26",
         "27",
         "0.8788738392059118",
         "0.0964415328689299",
         "0.7199251279368347",
         "0.2653091687976243",
         "0.03162956221313885",
         "0.2857142857142857",
         "0.5826530167250488"
        ],
        [
         "27",
         "28",
         "0.884392341146175",
         "0.09604250736220947",
         "0.7210839338415121",
         "0.2634569212679814",
         "0.029777314683496103",
         "0.2967032967032967",
         "0.5899375326547742"
        ],
        [
         "28",
         "29",
         "0.8896263364103677",
         "0.086952830112977",
         "0.7474811728415822",
         "0.22126329718485319",
         "-0.01241630939963228",
         "0.3076923076923077",
         "0.5165392954775286"
        ],
        [
         "29",
         "30",
         "0.8946998497951965",
         "0.08106502447402981",
         "0.76457988915193",
         "0.19393252943672026",
         "-0.03974707714776512",
         "0.31868131868131866",
         "0.4728667709702738"
        ],
        [
         "30",
         "31",
         "0.8996990140511264",
         "0.07803404604452534",
         "0.7733821226981697",
         "0.17986294688147814",
         "-0.05381665970300724",
         "0.32967032967032966",
         "0.45571661684880055"
        ],
        [
         "31",
         "32",
         "0.9045327883553433",
         "0.07512998603921126",
         "0.7818157737430728",
         "0.1663825104678072",
         "-0.06729709611667822",
         "0.34065934065934067",
         "0.4397447550104696"
        ],
        [
         "32",
         "33",
         "0.9090616742507067",
         "0.05909648430287209",
         "0.8283785026208137",
         "0.09195615555444618",
         "-0.14172345103003914",
         "0.3516483516483517",
         "0.30188105617275873"
        ],
        [
         "33",
         "34",
         "0.91340162657478",
         "0.05811034513196922",
         "0.8312423393300712",
         "0.08737856887784147",
         "-0.14630103770664396",
         "0.3626373626373626",
         "0.30371489380856015"
        ],
        [
         "34",
         "35",
         "0.9175174889933796",
         "0.05648830049255625",
         "0.8359529026252621",
         "0.07984915502904687",
         "-0.15383045155543856",
         "0.37362637362637363",
         "0.29964507709998195"
        ],
        [
         "35",
         "36",
         "0.9215328279483841",
         "0.05247721783064352",
         "0.8476014468774233",
         "0.06122999954501798",
         "-0.17244960703946746",
         "0.38461538461538464",
         "0.27339577712093516"
        ],
        [
         "36",
         "37",
         "0.9250197562941295",
         "0.050623645044639835",
         "0.8529843887019305",
         "0.05262584879258504",
         "-0.1810537577919004",
         "0.3956043956043956",
         "0.26717648660508025"
        ],
        [
         "37",
         "38",
         "0.9284241309434046",
         "0.05045394245305036",
         "0.8534772202674843",
         "0.051838101641709745",
         "-0.18184150494277557",
         "0.4065934065934066",
         "0.27659000329234074"
        ],
        [
         "38",
         "39",
         "0.9318064906127045",
         "0.05057734556519615",
         "0.8531188465480061",
         "0.05241092995912961",
         "-0.18126867662535584",
         "0.4175824175824176",
         "0.28872467091619136"
        ],
        [
         "39",
         "40",
         "0.9348775012232068",
         "0.04845606850163522",
         "0.8592792256348336",
         "0.04256411532073199",
         "-0.19111549126375332",
         "0.42857142857142855",
         "0.28002005262840723"
        ],
        [
         "40",
         "41",
         "0.9378177489246292",
         "0.04801561011207315",
         "0.8605583563520258",
         "0.04051953934692486",
         "-0.19316006723756055",
         "0.43956043956043955",
         "0.28691991166980385"
        ],
        [
         "41",
         "42",
         "0.9407297520242539",
         "0.04821652865650932",
         "0.8599748708561601",
         "0.04145218869220111",
         "-0.19222741789228429",
         "0.45054945054945056",
         "0.2997742213493674"
        ],
        [
         "42",
         "43",
         "0.9434845026891",
         "0.047879310849217",
         "0.860954181651263",
         "0.03988684803104281",
         "-0.19379275855344258",
         "0.46153846153846156",
         "0.3076325510160618"
        ],
        [
         "43",
         "44",
         "0.9460835743400947",
         "0.047265380599519104",
         "0.8627370902283543",
         "0.03703702823450369",
         "-0.19664257834998172",
         "0.4725274725274725",
         "0.31292192241199446"
        ],
        [
         "44",
         "45",
         "0.9485661278244968",
         "0.04740015123694882",
         "0.8623457041946285",
         "0.037662623781764",
         "-0.1960169828027213",
         "0.4835164835164835",
         "0.3251621244955262"
        ],
        [
         "45",
         "46",
         "0.9509294151119614",
         "0.04719241793853667",
         "0.8629489803480169",
         "0.03669834084163093",
         "-0.1969812657428545",
         "0.4945054945054945",
         "0.334222569604271"
        ],
        [
         "46",
         "47",
         "0.9532383141143099",
         "0.04728754333578136",
         "0.8626727276519978",
         "0.03713990605258928",
         "-0.19653970053189618",
         "0.5054945054945055",
         "0.34609471101519856"
        ],
        [
         "47",
         "48",
         "0.9554755055389104",
         "0.046991016141725954",
         "0.8635338692521752",
         "0.035763448273799035",
         "-0.19791615831068643",
         "0.5164835164835165",
         "0.3543308064466292"
        ],
        [
         "48",
         "49",
         "0.9576163980714786",
         "0.04578073889411308",
         "0.8670486230641746",
         "0.030145428863214037",
         "-0.20353417772127141",
         "0.5274725274725275",
         "0.3540837786144701"
        ],
        [
         "49",
         "50",
         "0.9597008292711572",
         "0.04675999969382374",
         "0.8642047617625486",
         "0.03469108663844738",
         "-0.1989885199460379",
         "0.5384615384615384",
         "0.37416410515394793"
        ]
       ],
       "shape": {
        "columns": 8,
        "rows": 92
       }
      },
      "text/html": [
       "<div>\n",
       "<style scoped>\n",
       "    .dataframe tbody tr th:only-of-type {\n",
       "        vertical-align: middle;\n",
       "    }\n",
       "\n",
       "    .dataframe tbody tr th {\n",
       "        vertical-align: top;\n",
       "    }\n",
       "\n",
       "    .dataframe thead th {\n",
       "        text-align: right;\n",
       "    }\n",
       "</style>\n",
       "<table border=\"1\" class=\"dataframe\">\n",
       "  <thead>\n",
       "    <tr style=\"text-align: right;\">\n",
       "      <th></th>\n",
       "      <th>Components</th>\n",
       "      <th>Explained Variance</th>\n",
       "      <th>PCA_RMSE</th>\n",
       "      <th>PCA_R2_Score</th>\n",
       "      <th>PCA_SCALED_RMSE</th>\n",
       "      <th>PCA_SCALED_R2_SCORE</th>\n",
       "      <th>SCALED_COMPONENTS</th>\n",
       "      <th>SCORE</th>\n",
       "    </tr>\n",
       "  </thead>\n",
       "  <tbody>\n",
       "    <tr>\n",
       "      <th>0</th>\n",
       "      <td>1</td>\n",
       "      <td>0.369925</td>\n",
       "      <td>0.254714</td>\n",
       "      <td>0.260287</td>\n",
       "      <td>1.000000</td>\n",
       "      <td>0.766320</td>\n",
       "      <td>0.000000</td>\n",
       "      <td>1.766320</td>\n",
       "    </tr>\n",
       "    <tr>\n",
       "      <th>1</th>\n",
       "      <td>2</td>\n",
       "      <td>0.454542</td>\n",
       "      <td>0.150858</td>\n",
       "      <td>0.561895</td>\n",
       "      <td>0.517906</td>\n",
       "      <td>0.284227</td>\n",
       "      <td>0.010989</td>\n",
       "      <td>0.813122</td>\n",
       "    </tr>\n",
       "    <tr>\n",
       "      <th>2</th>\n",
       "      <td>3</td>\n",
       "      <td>0.520228</td>\n",
       "      <td>0.122935</td>\n",
       "      <td>0.642985</td>\n",
       "      <td>0.388292</td>\n",
       "      <td>0.154612</td>\n",
       "      <td>0.021978</td>\n",
       "      <td>0.564882</td>\n",
       "    </tr>\n",
       "    <tr>\n",
       "      <th>3</th>\n",
       "      <td>4</td>\n",
       "      <td>0.569137</td>\n",
       "      <td>0.122817</td>\n",
       "      <td>0.643328</td>\n",
       "      <td>0.387743</td>\n",
       "      <td>0.154063</td>\n",
       "      <td>0.032967</td>\n",
       "      <td>0.574773</td>\n",
       "    </tr>\n",
       "    <tr>\n",
       "      <th>4</th>\n",
       "      <td>5</td>\n",
       "      <td>0.604028</td>\n",
       "      <td>0.124508</td>\n",
       "      <td>0.638418</td>\n",
       "      <td>0.395591</td>\n",
       "      <td>0.161911</td>\n",
       "      <td>0.043956</td>\n",
       "      <td>0.601458</td>\n",
       "    </tr>\n",
       "    <tr>\n",
       "      <th>...</th>\n",
       "      <td>...</td>\n",
       "      <td>...</td>\n",
       "      <td>...</td>\n",
       "      <td>...</td>\n",
       "      <td>...</td>\n",
       "      <td>...</td>\n",
       "      <td>...</td>\n",
       "      <td>...</td>\n",
       "    </tr>\n",
       "    <tr>\n",
       "      <th>87</th>\n",
       "      <td>88</td>\n",
       "      <td>0.998839</td>\n",
       "      <td>0.039809</td>\n",
       "      <td>0.884390</td>\n",
       "      <td>0.002427</td>\n",
       "      <td>-0.231252</td>\n",
       "      <td>0.956044</td>\n",
       "      <td>0.727219</td>\n",
       "    </tr>\n",
       "    <tr>\n",
       "      <th>88</th>\n",
       "      <td>89</td>\n",
       "      <td>0.999270</td>\n",
       "      <td>0.039900</td>\n",
       "      <td>0.884127</td>\n",
       "      <td>0.002847</td>\n",
       "      <td>-0.230832</td>\n",
       "      <td>0.967033</td>\n",
       "      <td>0.739048</td>\n",
       "    </tr>\n",
       "    <tr>\n",
       "      <th>89</th>\n",
       "      <td>90</td>\n",
       "      <td>0.999657</td>\n",
       "      <td>0.039900</td>\n",
       "      <td>0.884126</td>\n",
       "      <td>0.002849</td>\n",
       "      <td>-0.230830</td>\n",
       "      <td>0.978022</td>\n",
       "      <td>0.750041</td>\n",
       "    </tr>\n",
       "    <tr>\n",
       "      <th>90</th>\n",
       "      <td>91</td>\n",
       "      <td>0.999984</td>\n",
       "      <td>0.039827</td>\n",
       "      <td>0.884339</td>\n",
       "      <td>0.002508</td>\n",
       "      <td>-0.231172</td>\n",
       "      <td>0.989011</td>\n",
       "      <td>0.760347</td>\n",
       "    </tr>\n",
       "    <tr>\n",
       "      <th>91</th>\n",
       "      <td>92</td>\n",
       "      <td>1.000000</td>\n",
       "      <td>0.039287</td>\n",
       "      <td>0.885908</td>\n",
       "      <td>0.000000</td>\n",
       "      <td>-0.233680</td>\n",
       "      <td>1.000000</td>\n",
       "      <td>0.766320</td>\n",
       "    </tr>\n",
       "  </tbody>\n",
       "</table>\n",
       "<p>92 rows × 8 columns</p>\n",
       "</div>"
      ],
      "text/plain": [
       "    Components  Explained Variance  PCA_RMSE  PCA_R2_Score  PCA_SCALED_RMSE  \\\n",
       "0            1            0.369925  0.254714      0.260287         1.000000   \n",
       "1            2            0.454542  0.150858      0.561895         0.517906   \n",
       "2            3            0.520228  0.122935      0.642985         0.388292   \n",
       "3            4            0.569137  0.122817      0.643328         0.387743   \n",
       "4            5            0.604028  0.124508      0.638418         0.395591   \n",
       "..         ...                 ...       ...           ...              ...   \n",
       "87          88            0.998839  0.039809      0.884390         0.002427   \n",
       "88          89            0.999270  0.039900      0.884127         0.002847   \n",
       "89          90            0.999657  0.039900      0.884126         0.002849   \n",
       "90          91            0.999984  0.039827      0.884339         0.002508   \n",
       "91          92            1.000000  0.039287      0.885908         0.000000   \n",
       "\n",
       "    PCA_SCALED_R2_SCORE  SCALED_COMPONENTS     SCORE  \n",
       "0              0.766320           0.000000  1.766320  \n",
       "1              0.284227           0.010989  0.813122  \n",
       "2              0.154612           0.021978  0.564882  \n",
       "3              0.154063           0.032967  0.574773  \n",
       "4              0.161911           0.043956  0.601458  \n",
       "..                  ...                ...       ...  \n",
       "87            -0.231252           0.956044  0.727219  \n",
       "88            -0.230832           0.967033  0.739048  \n",
       "89            -0.230830           0.978022  0.750041  \n",
       "90            -0.231172           0.989011  0.760347  \n",
       "91            -0.233680           1.000000  0.766320  \n",
       "\n",
       "[92 rows x 8 columns]"
      ]
     },
     "execution_count": 31,
     "metadata": {},
     "output_type": "execute_result"
    }
   ],
   "source": [
    "max_components = training_features.shape[1]\n",
    "results = []\n",
    "pca_models = []\n",
    "score_lambda = lambda row, alpha=1, beta=1, gamma=1: \\\n",
    "    (row['PCA_SCALED_RMSE'] * alpha) + \\\n",
    "    (row['PCA_SCALED_R2_SCORE'] * beta) + \\\n",
    "    (row['SCALED_COMPONENTS'] * gamma)\n",
    "\n",
    "for n in range(1, max_components + 1):\n",
    "    pca_model = PCA(n_components=n)\n",
    "    train_pca_x = pca_model.fit_transform(training_features)\n",
    "    val_pca_x = pca_model.transform(validation_features)\n",
    "\n",
    "    pca_explained_variance_ratio = sum(pca_model.explained_variance_ratio_)\n",
    "\n",
    "    linealRegresionModel = LinearRegression()\n",
    "    linealRegresionModel.fit(train_pca_x, training_labels)\n",
    "\n",
    "    val_pca_predictions = linealRegresionModel.predict(val_pca_x)\n",
    "    reduction_val_rmse = mean_squared_error(validation_labels, val_pca_predictions)\n",
    "    reduction_val_r2_score = r2_score(validation_labels, val_pca_predictions)\n",
    "\n",
    "    results.append({\n",
    "        'Components': n,\n",
    "        'Explained Variance': pca_explained_variance_ratio,\n",
    "        'PCA_RMSE': reduction_val_rmse,\n",
    "        'PCA_R2_Score': reduction_val_r2_score\n",
    "    })\n",
    "\n",
    "    pca_models.append(pca_model)\n",
    "\n",
    "\n",
    "\n",
    "pca_dataset = pd.DataFrame(results)\n",
    "\n",
    "min_rmse = pca_dataset['PCA_RMSE'].min()\n",
    "max_rmse = pca_dataset['PCA_RMSE'].max()\n",
    "delta_rmse = max_rmse - min_rmse\n",
    "\n",
    "min_r2_score = pca_dataset['PCA_R2_Score'].min()\n",
    "max_r2_score = pca_dataset['PCA_R2_Score'].max()\n",
    "delta_r2_score = max_r2_score - min_r2_score\n",
    "\n",
    "min_comp = pca_dataset['Components'].min()\n",
    "max_comp = pca_dataset['Components'].max()\n",
    "delta_comp = max_comp - min_comp\n",
    "\n",
    "\n",
    "pca_dataset['PCA_SCALED_RMSE'] = 0 if delta_rmse == 0 else (pca_dataset['PCA_RMSE'] - min_rmse) / delta_rmse\n",
    "pca_dataset['PCA_SCALED_R2_SCORE'] = 0 if delta_r2_score == 0 else (1 - pca_dataset['PCA_R2_Score'] - min_r2_score ) / delta_r2_score\n",
    "pca_dataset['SCALED_COMPONENTS'] = 0 if delta_comp == 0 else (pca_dataset['Components'] - min_comp) / delta_comp\n",
    "pca_dataset['SCORE'] = pca_dataset.apply(score_lambda, axis=1)\n",
    "\n",
    "best_model_idx = pca_dataset['SCORE'].idxmin()\n",
    "best_model_info = pca_dataset.loc[best_model_idx]\n",
    "best_pca_model = pca_models[best_model_idx]\n",
    "\n",
    "print(f\"Inital Regresion RMSE: {validation_rmse} - Initial Regresion R2 Score: {validation_r2_score}\")\n",
    "print(f\"Best PCA RMSE: {best_model_info['PCA_RMSE']} - Best PCA R2 Score: {best_model_info['PCA_R2_Score']}\")\n",
    "\n",
    "pca_dataset"
   ]
  },
  {
   "cell_type": "code",
   "execution_count": null,
   "id": "7c7c0559",
   "metadata": {},
   "outputs": [],
   "source": []
  }
 ],
 "metadata": {
  "kernelspec": {
   "display_name": ".venv",
   "language": "python",
   "name": "python3"
  },
  "language_info": {
   "codemirror_mode": {
    "name": "ipython",
    "version": 3
   },
   "file_extension": ".py",
   "mimetype": "text/x-python",
   "name": "python",
   "nbconvert_exporter": "python",
   "pygments_lexer": "ipython3",
   "version": "3.13.0"
  }
 },
 "nbformat": 4,
 "nbformat_minor": 5
}
