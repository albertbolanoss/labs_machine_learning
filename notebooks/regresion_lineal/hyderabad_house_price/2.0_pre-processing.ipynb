{
 "cells": [
  {
   "cell_type": "markdown",
   "id": "f8964cec",
   "metadata": {},
   "source": [
    "# Housing "
   ]
  }
 ],
 "metadata": {
  "language_info": {
   "name": "python"
  }
 },
 "nbformat": 4,
 "nbformat_minor": 5
}
