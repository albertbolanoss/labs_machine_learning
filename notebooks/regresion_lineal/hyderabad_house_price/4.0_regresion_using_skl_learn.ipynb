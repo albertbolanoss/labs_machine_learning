{
 "cells": [
  {
   "cell_type": "code",
   "execution_count": null,
   "id": "5cb29605",
   "metadata": {},
   "outputs": [],
   "source": [
    "import numpy as np\n",
    "import pandas as pd\n",
    "from scipy import sparse\n",
    "from sklearn.compose import ColumnTransformer\n",
    "from sklearn.pipeline import Pipeline\n",
    "from sklearn.preprocessing import OneHotEncoder, FunctionTransformer\n",
    "from sklearn.impute import SimpleImputer\n",
    "from sklearn.linear_model import LinearRegression\n",
    "\n",
    "# Variables\n",
    "y = house_prices_ds[\"Price\"]\n",
    "X = house_prices_ds.drop(columns=[\"Price\"])\n",
    "\n",
    "numeric_cols = X.select_dtypes(include=[np.number]).columns.tolist()\n",
    "\n",
    "# Pipeline numérico -> imputa y convierte a CSR para mantener todo sparse\n",
    "num_pipe = Pipeline(steps=[\n",
    "    (\"imputer\", SimpleImputer(strategy=\"median\")),\n",
    "    (\"to_sparse\", FunctionTransformer(lambda A: sparse.csr_matrix(A), accept_sparse=True))\n",
    "])\n",
    "\n",
    "# Solo Location a OneHot (sparse)\n",
    "cat_pipe = Pipeline(steps=[\n",
    "    (\"imputer\", SimpleImputer(strategy=\"most_frequent\")),\n",
    "    (\"ohe\", OneHotEncoder(drop=\"first\", sparse_output=True, handle_unknown=\"ignore\"))\n",
    "])\n",
    "\n",
    "# ColumnTransformer que devuelve matriz CSR (todas las salidas son sparse)\n",
    "pre = ColumnTransformer(\n",
    "    transformers=[\n",
    "        (\"num\", num_pipe, numeric_cols),\n",
    "        (\"loc\", cat_pipe, [\"Location\"]),\n",
    "    ],\n",
    "    remainder=\"drop\",\n",
    "    sparse_threshold=1.0,  # forzamos salida sparse si es posible\n",
    ")\n",
    "\n",
    "X_sparse = pre.fit_transform(X)   # <- matriz CSR\n",
    "linreg = LinearRegression()\n",
    "linreg.fit(X_sparse, y)"
   ]
  }
 ],
 "metadata": {
  "language_info": {
   "name": "python"
  }
 },
 "nbformat": 4,
 "nbformat_minor": 5
}
